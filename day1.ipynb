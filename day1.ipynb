{
 "cells": [
  {
   "cell_type": "markdown",
   "metadata": {},
   "source": [
    "Part 1"
   ]
  },
  {
   "cell_type": "code",
   "execution_count": 14,
   "metadata": {},
   "outputs": [
    {
     "name": "stdout",
     "output_type": "stream",
     "text": [
      "1882714\n"
     ]
    }
   ],
   "source": [
    "data = open(\"data/day1/data.txt\", \"r\")\n",
    "\n",
    "left = []\n",
    "right = []\n",
    "res = 0\n",
    "\n",
    "for line in data.readlines():\n",
    "    line = line.split(\"   \") \n",
    "\n",
    "    left.append(line[0])\n",
    "    right.append(line[1].replace(\"\\n\", \"\"))\n",
    "\n",
    "left.sort()\n",
    "right.sort()\n",
    "\n",
    "for i in range(len(left)):\n",
    "    res += abs(int(left[i]) - int(right[i]))\n",
    "\n",
    "print(res)"
   ]
  },
  {
   "cell_type": "markdown",
   "metadata": {},
   "source": [
    "Part 2"
   ]
  },
  {
   "cell_type": "code",
   "execution_count": 17,
   "metadata": {},
   "outputs": [
    {
     "name": "stdout",
     "output_type": "stream",
     "text": [
      "19437052\n"
     ]
    }
   ],
   "source": [
    "data = open(\"data/day1/data.txt\", \"r\")\n",
    "\n",
    "left = []\n",
    "right = []\n",
    "res = 0\n",
    "\n",
    "for line in data.readlines():\n",
    "    line = line.split(\"   \") \n",
    "\n",
    "    left.append(line[0])\n",
    "    right.append(line[1].replace(\"\\n\", \"\"))\n",
    "\n",
    "left.sort()\n",
    "right.sort()\n",
    "\n",
    "for i in range(len(left)):\n",
    "    res += abs(int(left[i]) * right.count(left[i]))\n",
    "\n",
    "print(res)"
   ]
  }
 ],
 "metadata": {
  "kernelspec": {
   "display_name": "Python 3",
   "language": "python",
   "name": "python3"
  },
  "language_info": {
   "codemirror_mode": {
    "name": "ipython",
    "version": 3
   },
   "file_extension": ".py",
   "mimetype": "text/x-python",
   "name": "python",
   "nbconvert_exporter": "python",
   "pygments_lexer": "ipython3",
   "version": "3.9.13"
  }
 },
 "nbformat": 4,
 "nbformat_minor": 2
}
