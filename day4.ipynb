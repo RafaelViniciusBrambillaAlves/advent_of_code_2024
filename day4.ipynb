{
 "cells": [
  {
   "cell_type": "markdown",
   "metadata": {},
   "source": [
    "Part 1"
   ]
  },
  {
   "cell_type": "code",
   "execution_count": 47,
   "metadata": {},
   "outputs": [
    {
     "name": "stdout",
     "output_type": "stream",
     "text": [
      "2493\n"
     ]
    }
   ],
   "source": [
    "with open(\"data/day4/data.txt\", \"r\") as file:\n",
    "    data = [line.strip() for line in file.readlines()] \n",
    "\n",
    "res = 0\n",
    "\n",
    "pos = [\n",
    "    [-1, -1],  \n",
    "    [-1, 0],   \n",
    "    [-1, 1],   \n",
    "    [0, 1],    \n",
    "    [1, 1],    \n",
    "    [1, 0],    \n",
    "    [1, -1],   \n",
    "    [0, -1]    \n",
    "]\n",
    "\n",
    "for x, linha in enumerate(data):\n",
    "    for y, char in enumerate(linha):\n",
    "        if char == \"X\":  \n",
    "            for p in pos:\n",
    "                \n",
    "                coords = [(x, y)]\n",
    "                valid = True\n",
    "                \n",
    "                for step in range(1, 4):  \n",
    "                    new_x = x + step * p[0]\n",
    "                    new_y = y + step * p[1]\n",
    "\n",
    "                    if 0 <= new_x < len(data) and 0 <= new_y < len(data[new_x]):\n",
    "                        coords.append((new_x, new_y))\n",
    "                    else:\n",
    "                        valid = False\n",
    "                        break\n",
    "                \n",
    "                if valid and len(coords) == 4:\n",
    "                   \n",
    "                    if (\n",
    "                        data[coords[0][0]][coords[0][1]] == \"X\" and\n",
    "                        data[coords[1][0]][coords[1][1]] == \"M\" and\n",
    "                        data[coords[2][0]][coords[2][1]] == \"A\" and\n",
    "                        data[coords[3][0]][coords[3][1]] == \"S\"\n",
    "                    ):\n",
    "                        res += 1\n",
    "\n",
    "print(res)\n"
   ]
  },
  {
   "cell_type": "markdown",
   "metadata": {},
   "source": [
    "Part 2"
   ]
  },
  {
   "cell_type": "code",
   "execution_count": 86,
   "metadata": {},
   "outputs": [
    {
     "name": "stdout",
     "output_type": "stream",
     "text": [
      "1890\n"
     ]
    }
   ],
   "source": [
    "with open(\"data/day4/data.txt\", \"r\") as file:\n",
    "    data = [line.strip() for line in file.readlines()]\n",
    "\n",
    "res = 0\n",
    "\n",
    "full_coords = []\n",
    "\n",
    "pos = [\n",
    "    [-1, -1],\n",
    "    [-1, 0],\n",
    "    [-1, 1],\n",
    "    [0, 1],\n",
    "    [0, -1],\n",
    "    [1, -1],\n",
    "    [1, 0],\n",
    "    [1, 1]\n",
    "]\n",
    "\n",
    "for x, linha in enumerate(data):\n",
    "    for y, char in enumerate(linha):\n",
    "        if data[x][y] == \"M\":\n",
    "            initial_x, initial_y = x, y\n",
    "\n",
    "            for p in pos:\n",
    "                coords = [(x, y)]\n",
    "                valid = True\n",
    "\n",
    "                for step in range(1, 3):\n",
    "                    new_x = x + step * p[0]\n",
    "                    new_y = y + step * p[1]\n",
    "\n",
    "                    if 0 <= new_x < len(data) and 0 <= new_y < len(data[new_x]):\n",
    "                        coords.append((new_x, new_y))\n",
    "                    else:\n",
    "                        valid = False\n",
    "                        break\n",
    "\n",
    "                    if valid and len(coords) == 3:\n",
    "                        if (\n",
    "                            data[coords[0][0]][coords[0][1]] == \"M\" and\n",
    "                            data[coords[1][0]][coords[1][1]] == \"A\" and\n",
    "                            data[coords[2][0]][coords[2][1]] == \"S\"\n",
    "                        ):\n",
    "                            (m_x, m_y), (a_x, a_y), (s_x, s_y) = coords\n",
    "\n",
    "                            if m_x != a_x != s_x and m_y != a_y != s_y:\n",
    "                                full_coords.append(coords)\n",
    "                            \n",
    "\n",
    "for i in range(len(full_coords)):\n",
    "    for j in range( i + 1, len(full_coords)):\n",
    "        (m_x_1, m_y_1), (a_x_1, a_y_1), (s_x_1, s_y_1) = full_coords[i]\n",
    "        (m_x_2, m_y_2), (a_x_2, a_y_2), (s_x_2, s_y_2) = full_coords[j]\n",
    "        if (a_x_1 == a_x_2) and (a_y_1 == a_y_2):\n",
    "            \n",
    "            res += 1\n",
    "\n",
    "print(res)\n",
    "\n"
   ]
  }
 ],
 "metadata": {
  "kernelspec": {
   "display_name": "Python 3",
   "language": "python",
   "name": "python3"
  },
  "language_info": {
   "codemirror_mode": {
    "name": "ipython",
    "version": 3
   },
   "file_extension": ".py",
   "mimetype": "text/x-python",
   "name": "python",
   "nbconvert_exporter": "python",
   "pygments_lexer": "ipython3",
   "version": "3.9.13"
  }
 },
 "nbformat": 4,
 "nbformat_minor": 2
}
