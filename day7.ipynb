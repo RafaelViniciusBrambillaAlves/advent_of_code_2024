{
 "cells": [
  {
   "cell_type": "markdown",
   "metadata": {},
   "source": [
    "Part 1"
   ]
  },
  {
   "cell_type": "code",
   "execution_count": 61,
   "metadata": {},
   "outputs": [
    {
     "name": "stdout",
     "output_type": "stream",
     "text": [
      "1038838357795\n"
     ]
    }
   ],
   "source": [
    "from itertools import product\n",
    "\n",
    "with open(\"data/day7/data.txt\", \"r\") as file:\n",
    "    data = [line for line in file.readlines()]\n",
    "\n",
    "res = 0\n",
    "\n",
    "for linha in data:\n",
    "    valor = int(linha.split(\":\")[0])\n",
    "\n",
    "    valores = linha.split(\":\")[1].split(sep = \" \")[1:]\n",
    "\n",
    "    tam = len(valores) - 1\n",
    "\n",
    "    combinacoes = [list(comb) for comb in product(['*', '+'], repeat=tam)]\n",
    "\n",
    "    for comb in combinacoes:\n",
    "\n",
    "        s = int(valores[0])\n",
    "\n",
    "        for i in range(1, len(valores)):\n",
    "            if comb[i - 1] == '*':\n",
    "                s *= int(valores[i])\n",
    "            else:\n",
    "                s += int(valores[i])\n",
    "\n",
    "        if s == valor:\n",
    "            res += valor\n",
    "            break\n",
    "      \n",
    "print(res)   "
   ]
  },
  {
   "cell_type": "markdown",
   "metadata": {},
   "source": [
    "Part 2"
   ]
  },
  {
   "cell_type": "code",
   "execution_count": 90,
   "metadata": {},
   "outputs": [],
   "source": [
    "def gerar_combinacoes(tam):\n",
    "    elementos = ['*', '+', '||']\n",
    "    todas_combinacoes = list(product(elementos, repeat=tam))\n",
    "    \n",
    "    # Ordenar as combinações para atender ao formato desejado\n",
    "    combinacoes = []\n",
    "    for comb in todas_combinacoes:\n",
    "        combinacoes.append(list(comb))\n",
    "    \n",
    "    # Retornar combinações ajustadas\n",
    "    return combinacoes\n",
    "\n",
    "def concat(a, b):\n",
    "    return int(f\"{a}{b}\")"
   ]
  },
  {
   "cell_type": "code",
   "execution_count": 94,
   "metadata": {},
   "outputs": [
    {
     "name": "stdout",
     "output_type": "stream",
     "text": [
      "254136560217241\n"
     ]
    }
   ],
   "source": [
    "from itertools import product\n",
    "\n",
    "with open(\"data/day7/data.txt\", \"r\") as file:\n",
    "    data = [line for line in file.readlines()]\n",
    "\n",
    "res = 0\n",
    "\n",
    "for linha in data:\n",
    "    valor = int(linha.split(\":\")[0])\n",
    "\n",
    "    valores = linha.split(\":\")[1].split(sep = \" \")[1:]\n",
    "\n",
    "    combinacoes = gerar_combinacoes(len(valores) - 1)\n",
    "    \n",
    "    for comb in combinacoes:\n",
    "    \n",
    "        s = int(valores[0])\n",
    "\n",
    "        for i in range(1, len(valores)):\n",
    "            if comb[i - 1] == '*':\n",
    "                s *= int(valores[i])\n",
    "            elif comb[i - 1] == '+':\n",
    "                s += int(valores[i])\n",
    "            else:\n",
    "                s = int(concat(s, valores[i]))\n",
    "\n",
    "        if s == valor:\n",
    "            \n",
    "            res += valor\n",
    "            break\n",
    "      \n",
    "print(res) "
   ]
  }
 ],
 "metadata": {
  "kernelspec": {
   "display_name": "Python 3",
   "language": "python",
   "name": "python3"
  },
  "language_info": {
   "codemirror_mode": {
    "name": "ipython",
    "version": 3
   },
   "file_extension": ".py",
   "mimetype": "text/x-python",
   "name": "python",
   "nbconvert_exporter": "python",
   "pygments_lexer": "ipython3",
   "version": "3.9.13"
  }
 },
 "nbformat": 4,
 "nbformat_minor": 2
}
