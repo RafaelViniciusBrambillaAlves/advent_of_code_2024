{
 "cells": [
  {
   "cell_type": "markdown",
   "metadata": {},
   "source": [
    "Part 1"
   ]
  },
  {
   "cell_type": "code",
   "execution_count": 45,
   "metadata": {},
   "outputs": [
    {
     "name": "stdout",
     "output_type": "stream",
     "text": [
      "161085926\n"
     ]
    }
   ],
   "source": [
    "import re\n",
    "from functools import reduce\n",
    "\n",
    "data = open(\"data/day3/data.txt\", \"r\")\n",
    "\n",
    "res = 0\n",
    "\n",
    "data = data.read()\n",
    "\n",
    "pattern = r\"mul\\((\\d+),(\\d+)\\)\"\n",
    "\n",
    "matches = re.findall(pattern, data)\n",
    "\n",
    "for x, y in matches:\n",
    "    res += int(x) * int(y)\n",
    "print(res)\n"
   ]
  },
  {
   "cell_type": "markdown",
   "metadata": {},
   "source": [
    "Part 2"
   ]
  },
  {
   "cell_type": "code",
   "execution_count": null,
   "metadata": {},
   "outputs": [
    {
     "name": "stdout",
     "output_type": "stream",
     "text": [
      "82045421\n"
     ]
    }
   ],
   "source": [
    "import re\n",
    "from functools import reduce\n",
    "\n",
    "data = open(\"data/day3/data.txt\", \"r\")\n",
    "\n",
    "res = 0\n",
    "\n",
    "data = data.read()\n",
    "\n",
    "pattern_dont_do = r\"(don't\\(\\)|do\\(\\))\"\n",
    "\n",
    "split_data = re.split(pattern_dont_do, data)\n",
    "\n",
    "result = [segment for segment in split_data if segment]\n",
    "\n",
    "result.insert(0, \"do()\")\n",
    "\n",
    "for i in range(0, len(result) - 1, 2):\n",
    "    if result[i] == \"do()\": \n",
    "        \n",
    "        pattern_mul = r\"mul\\((\\d+),(\\d+)\\)\"\n",
    "\n",
    "        matches = re.findall(pattern, result[i + 1])\n",
    "\n",
    "        for x, y in matches:\n",
    "            res += int(x) * int(y)\n",
    "\n",
    "print(res)"
   ]
  }
 ],
 "metadata": {
  "kernelspec": {
   "display_name": "Python 3",
   "language": "python",
   "name": "python3"
  },
  "language_info": {
   "codemirror_mode": {
    "name": "ipython",
    "version": 3
   },
   "file_extension": ".py",
   "mimetype": "text/x-python",
   "name": "python",
   "nbconvert_exporter": "python",
   "pygments_lexer": "ipython3",
   "version": "3.9.13"
  }
 },
 "nbformat": 4,
 "nbformat_minor": 2
}
