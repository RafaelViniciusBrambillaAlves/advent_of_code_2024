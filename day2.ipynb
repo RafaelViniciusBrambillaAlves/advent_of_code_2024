{
 "cells": [
  {
   "cell_type": "markdown",
   "metadata": {},
   "source": [
    "Part1"
   ]
  },
  {
   "cell_type": "code",
   "execution_count": null,
   "metadata": {},
   "outputs": [
    {
     "name": "stdout",
     "output_type": "stream",
     "text": [
      "257\n"
     ]
    }
   ],
   "source": [
    "data = open(\"data/day2/data.txt\", \"r\")\n",
    "\n",
    "res = 0\n",
    "\n",
    "for line in data.readlines():\n",
    "    line = line.split(\" \")\n",
    " \n",
    "    status = \"safe\"\n",
    "    levels = \"\"\n",
    "\n",
    "    for i in range(len(line) - 1):\n",
    "        \n",
    "        \n",
    "        v1 = int(line[i])\n",
    "        v2 = int(line[i + 1])\n",
    "\n",
    "        if abs(v1 - v2) > 3 or abs(v1 - v2) == 0:\n",
    "            status = \"unsafe\" \n",
    "        \n",
    "        if levels == \"\":\n",
    "            if v1 > v2:\n",
    "                levels = \"decreasing\"\n",
    "            else:\n",
    "                levels = \"increasing\"\n",
    "        else:\n",
    "            if v1 > v2 and levels == \"increasing\":\n",
    "                status = \"unsafe\"\n",
    "            elif v1 < v2 and levels == \"decreasing\":\n",
    "                status = \"unsafe\"\n",
    "\n",
    "    if status == \"safe\":\n",
    "        res += 1\n",
    "\n",
    "print(res)     "
   ]
  },
  {
   "cell_type": "markdown",
   "metadata": {},
   "source": [
    "Part 2"
   ]
  },
  {
   "cell_type": "code",
   "execution_count": 39,
   "metadata": {},
   "outputs": [
    {
     "name": "stdout",
     "output_type": "stream",
     "text": [
      "328\n"
     ]
    }
   ],
   "source": [
    "data = open(\"data/day2/data.txt\", \"r\")\n",
    "\n",
    "res = 0\n",
    "\n",
    "for line in data.readlines():\n",
    "    line = line.split(\" \")\n",
    "\n",
    "    for i in range(len(line)):\n",
    "        \n",
    "        status = \"safe\"\n",
    "        levels = \"\"\n",
    "\n",
    "        prev_line = line.copy()\n",
    "        prev_line.pop(i)\n",
    "\n",
    "        for i in range(len(prev_line) - 1):\n",
    "            \n",
    "            v1 = int(prev_line[i])\n",
    "            v2 = int(prev_line[i + 1])\n",
    "\n",
    "            if abs(v1 - v2) > 3 or abs(v1 - v2) == 0:\n",
    "                status = \"unsafe\" \n",
    "            \n",
    "            if levels == \"\":\n",
    "                if v1 > v2:\n",
    "                    levels = \"decreasing\"\n",
    "                else:\n",
    "                    levels = \"increasing\"\n",
    "            else:\n",
    "                if v1 > v2 and levels == \"increasing\":\n",
    "                    status = \"unsafe\"\n",
    "                elif v1 < v2 and levels == \"decreasing\":\n",
    "                    status = \"unsafe\"\n",
    "\n",
    "        if status == \"safe\":\n",
    "            res += 1\n",
    "            break\n",
    "\n",
    "print(res)     "
   ]
  }
 ],
 "metadata": {
  "kernelspec": {
   "display_name": "Python 3",
   "language": "python",
   "name": "python3"
  },
  "language_info": {
   "codemirror_mode": {
    "name": "ipython",
    "version": 3
   },
   "file_extension": ".py",
   "mimetype": "text/x-python",
   "name": "python",
   "nbconvert_exporter": "python",
   "pygments_lexer": "ipython3",
   "version": "3.9.13"
  }
 },
 "nbformat": 4,
 "nbformat_minor": 2
}
